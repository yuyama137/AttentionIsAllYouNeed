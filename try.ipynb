{
 "metadata": {
  "language_info": {
   "codemirror_mode": {
    "name": "ipython",
    "version": 3
   },
   "file_extension": ".py",
   "mimetype": "text/x-python",
   "name": "python",
   "nbconvert_exporter": "python",
   "pygments_lexer": "ipython3",
   "version": "3.6.4-final"
  },
  "orig_nbformat": 2,
  "kernelspec": {
   "name": "python3",
   "display_name": "Python 3",
   "language": "python"
  }
 },
 "nbformat": 4,
 "nbformat_minor": 2,
 "cells": [
  {
   "source": [
    "## MultiHeadAttentionのtransposeの秘密"
   ],
   "cell_type": "markdown",
   "metadata": {}
  },
  {
   "cell_type": "code",
   "execution_count": 9,
   "metadata": {},
   "outputs": [],
   "source": [
    "import numpy as np\n",
    "import torch\n",
    "import torch.nn as nn"
   ]
  },
  {
   "cell_type": "code",
   "execution_count": 10,
   "metadata": {},
   "outputs": [
    {
     "output_type": "execute_result",
     "data": {
      "text/plain": [
       "tensor([[[ 0,  1,  2,  3,  4,  5,  6,  7,  8,  9, 10, 11],\n",
       "         [12, 13, 14, 15, 16, 17, 18, 19, 20, 21, 22, 23],\n",
       "         [24, 25, 26, 27, 28, 29, 30, 31, 32, 33, 34, 35]],\n",
       "\n",
       "        [[ 0,  1,  2,  3,  4,  5,  6,  7,  8,  9, 10, 11],\n",
       "         [12, 13, 14, 15, 16, 17, 18, 19, 20, 21, 22, 23],\n",
       "         [24, 25, 26, 27, 28, 29, 30, 31, 32, 33, 34, 35]],\n",
       "\n",
       "        [[ 0,  1,  2,  3,  4,  5,  6,  7,  8,  9, 10, 11],\n",
       "         [12, 13, 14, 15, 16, 17, 18, 19, 20, 21, 22, 23],\n",
       "         [24, 25, 26, 27, 28, 29, 30, 31, 32, 33, 34, 35]]])"
      ]
     },
     "metadata": {},
     "execution_count": 10
    }
   ],
   "source": [
    "a = np.arange(36).reshape(1,3,12)\n",
    "a = a.repeat(3,axis=0).reshape(3,3,12)\n",
    "a = torch.tensor(a)\n",
    "a"
   ]
  },
  {
   "cell_type": "code",
   "execution_count": 11,
   "metadata": {},
   "outputs": [
    {
     "output_type": "execute_result",
     "data": {
      "text/plain": [
       "tensor([[[[ 0,  1,  2,  3],\n",
       "          [12, 13, 14, 15],\n",
       "          [24, 25, 26, 27]],\n",
       "\n",
       "         [[ 4,  5,  6,  7],\n",
       "          [16, 17, 18, 19],\n",
       "          [28, 29, 30, 31]],\n",
       "\n",
       "         [[ 8,  9, 10, 11],\n",
       "          [20, 21, 22, 23],\n",
       "          [32, 33, 34, 35]]],\n",
       "\n",
       "\n",
       "        [[[ 0,  1,  2,  3],\n",
       "          [12, 13, 14, 15],\n",
       "          [24, 25, 26, 27]],\n",
       "\n",
       "         [[ 4,  5,  6,  7],\n",
       "          [16, 17, 18, 19],\n",
       "          [28, 29, 30, 31]],\n",
       "\n",
       "         [[ 8,  9, 10, 11],\n",
       "          [20, 21, 22, 23],\n",
       "          [32, 33, 34, 35]]],\n",
       "\n",
       "\n",
       "        [[[ 0,  1,  2,  3],\n",
       "          [12, 13, 14, 15],\n",
       "          [24, 25, 26, 27]],\n",
       "\n",
       "         [[ 4,  5,  6,  7],\n",
       "          [16, 17, 18, 19],\n",
       "          [28, 29, 30, 31]],\n",
       "\n",
       "         [[ 8,  9, 10, 11],\n",
       "          [20, 21, 22, 23],\n",
       "          [32, 33, 34, 35]]]])"
      ]
     },
     "metadata": {},
     "execution_count": 11
    }
   ],
   "source": [
    "a.reshape(3, 3, 3, 4).transpose(1,2)"
   ]
  },
  {
   "cell_type": "code",
   "execution_count": 12,
   "metadata": {},
   "outputs": [
    {
     "output_type": "stream",
     "name": "stdout",
     "text": [
      "tensor([[[[ 0,  1,  2,  3],\n          [ 4,  5,  6,  7],\n          [ 8,  9, 10, 11]],\n\n         [[12, 13, 14, 15],\n          [16, 17, 18, 19],\n          [20, 21, 22, 23]],\n\n         [[24, 25, 26, 27],\n          [28, 29, 30, 31],\n          [32, 33, 34, 35]]],\n\n\n        [[[ 0,  1,  2,  3],\n          [ 4,  5,  6,  7],\n          [ 8,  9, 10, 11]],\n\n         [[12, 13, 14, 15],\n          [16, 17, 18, 19],\n          [20, 21, 22, 23]],\n\n         [[24, 25, 26, 27],\n          [28, 29, 30, 31],\n          [32, 33, 34, 35]]],\n\n\n        [[[ 0,  1,  2,  3],\n          [ 4,  5,  6,  7],\n          [ 8,  9, 10, 11]],\n\n         [[12, 13, 14, 15],\n          [16, 17, 18, 19],\n          [20, 21, 22, 23]],\n\n         [[24, 25, 26, 27],\n          [28, 29, 30, 31],\n          [32, 33, 34, 35]]]])\n"
     ]
    }
   ],
   "source": [
    "print(a.reshape(3, 3, 3, 4))"
   ]
  },
  {
   "source": [
    "transposeしないと、それぞれの単語ベクトルが一つのクエリになってるように変形されてしまう。"
   ],
   "cell_type": "markdown",
   "metadata": {}
  },
  {
   "cell_type": "code",
   "execution_count": 13,
   "metadata": {},
   "outputs": [
    {
     "output_type": "execute_result",
     "data": {
      "text/plain": [
       "tensor([[0],\n",
       "        [1],\n",
       "        [2],\n",
       "        [3],\n",
       "        [4],\n",
       "        [5],\n",
       "        [6],\n",
       "        [7],\n",
       "        [8],\n",
       "        [9]])"
      ]
     },
     "metadata": {},
     "execution_count": 13
    }
   ],
   "source": [
    "torch.arange(10).unsqueeze(1)"
   ]
  },
  {
   "source": [
    "## positional encoding"
   ],
   "cell_type": "markdown",
   "metadata": {}
  },
  {
   "cell_type": "code",
   "execution_count": 22,
   "metadata": {},
   "outputs": [
    {
     "output_type": "stream",
     "name": "stdout",
     "text": [
      "torch.Size([3, 10, 512])\n"
     ]
    }
   ],
   "source": [
    "class PositionalEncoding(nn.Module):\n",
    "    \"\"\"\n",
    "    位置エンコーディング\n",
    "    \n",
    "    args:\n",
    "      - d_model (int) : ベクトルの次元数\n",
    "      - dropout (float)\n",
    "      - device\n",
    "      - max_len (int) : 許容しうる最大の長さの文章\n",
    "    \"\"\"\n",
    "    def __init__(self, d_model, dropout, device=\"cpu\", max_len = 10000):\n",
    "        super().__init__()\n",
    "        self.pe = torch.zeros(max_len, d_model)\n",
    "        pos = torch.arange(0,max_len).unsqueeze(1).type(torch.float32)\n",
    "        tmp = torch.arange(0,d_model,2)\n",
    "        den = 1/torch.pow(torch.ones(int(d_model/2))*10000,2*tmp/d_model)\n",
    "        den = den.unsqueeze(0)\n",
    "        self.pe[:,0::2] = torch.sin(torch.matmul(pos,den))\n",
    "        self.pe[:,1::2] = torch.cos(torch.matmul(pos,den))\n",
    "        self.pe = self.pe.to(device)\n",
    "\n",
    "    def forward(self, x):\n",
    "        return x + self.pe[:x.shape[1],:]\n",
    "\n",
    "pe = PositionalEncoding(512,0.0, max_len=50)\n",
    "\n",
    "data = torch.tensor(np.random.rand(3,10,512))\n",
    "print(pe(data).shape)\n"
   ]
  },
  {
   "cell_type": "code",
   "execution_count": 23,
   "metadata": {},
   "outputs": [
    {
     "output_type": "execute_result",
     "data": {
      "text/plain": [
       "<matplotlib.image.AxesImage at 0x126049630>"
      ]
     },
     "metadata": {},
     "execution_count": 23
    },
    {
     "output_type": "display_data",
     "data": {
      "text/plain": "<Figure size 432x288 with 1 Axes>",
      "image/svg+xml": "<?xml version=\"1.0\" encoding=\"utf-8\" standalone=\"no\"?>\n<!DOCTYPE svg PUBLIC \"-//W3C//DTD SVG 1.1//EN\"\n  \"http://www.w3.org/Graphics/SVG/1.1/DTD/svg11.dtd\">\n<!-- Created with matplotlib (https://matplotlib.org/) -->\n<svg height=\"250.142944pt\" version=\"1.1\" viewBox=\"0 0 370.948828 250.142944\" width=\"370.948828pt\" xmlns=\"http://www.w3.org/2000/svg\" xmlns:xlink=\"http://www.w3.org/1999/xlink\">\n <metadata>\n  <rdf:RDF xmlns:cc=\"http://creativecommons.org/ns#\" xmlns:dc=\"http://purl.org/dc/elements/1.1/\" xmlns:rdf=\"http://www.w3.org/1999/02/22-rdf-syntax-ns#\">\n   <cc:Work>\n    <dc:type rdf:resource=\"http://purl.org/dc/dcmitype/StillImage\"/>\n    <dc:date>2021-01-06T15:43:09.173320</dc:date>\n    <dc:format>image/svg+xml</dc:format>\n    <dc:creator>\n     <cc:Agent>\n      <dc:title>Matplotlib v3.3.1, https://matplotlib.org/</dc:title>\n     </cc:Agent>\n    </dc:creator>\n   </cc:Work>\n  </rdf:RDF>\n </metadata>\n <defs>\n  <style type=\"text/css\">*{stroke-linecap:butt;stroke-linejoin:round;}</style>\n </defs>\n <g id=\"figure_1\">\n  <g id=\"patch_1\">\n   <path d=\"M -0 250.142944 \nL 370.948828 250.142944 \nL 370.948828 0 \nL -0 0 \nz\n\" style=\"fill:none;\"/>\n  </g>\n  <g id=\"axes_1\">\n   <g id=\"patch_2\">\n    <path d=\"M 26.925 226.264819 \nL 361.725 226.264819 \nL 361.725 8.824819 \nL 26.925 8.824819 \nz\n\" style=\"fill:#ffffff;\"/>\n   </g>\n   <g clip-path=\"url(#p5495379810)\">\n    <image height=\"218\" id=\"image6af3f21bea\" transform=\"scale(1 -1)translate(0 -218)\" width=\"335\" x=\"26.925\" xlink:href=\"data:image/png;base64,\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\" y=\"-8.264819\"/>\n   </g>\n   <g id=\"matplotlib.axis_1\">\n    <g id=\"xtick_1\">\n     <g id=\"line2d_1\">\n      <defs>\n       <path d=\"M 0 0 \nL 0 3.5 \n\" id=\"m7c3297edcc\" style=\"stroke:#000000;stroke-width:0.8;\"/>\n      </defs>\n      <g>\n       <use style=\"stroke:#000000;stroke-width:0.8;\" x=\"27.251953\" xlink:href=\"#m7c3297edcc\" y=\"226.264819\"/>\n      </g>\n     </g>\n     <g id=\"text_1\">\n      <!-- 0 -->\n      <g transform=\"translate(24.070703 240.863256)scale(0.1 -0.1)\">\n       <defs>\n        <path d=\"M 31.78125 66.40625 \nQ 24.171875 66.40625 20.328125 58.90625 \nQ 16.5 51.421875 16.5 36.375 \nQ 16.5 21.390625 20.328125 13.890625 \nQ 24.171875 6.390625 31.78125 6.390625 \nQ 39.453125 6.390625 43.28125 13.890625 \nQ 47.125 21.390625 47.125 36.375 \nQ 47.125 51.421875 43.28125 58.90625 \nQ 39.453125 66.40625 31.78125 66.40625 \nz\nM 31.78125 74.21875 \nQ 44.046875 74.21875 50.515625 64.515625 \nQ 56.984375 54.828125 56.984375 36.375 \nQ 56.984375 17.96875 50.515625 8.265625 \nQ 44.046875 -1.421875 31.78125 -1.421875 \nQ 19.53125 -1.421875 13.0625 8.265625 \nQ 6.59375 17.96875 6.59375 36.375 \nQ 6.59375 54.828125 13.0625 64.515625 \nQ 19.53125 74.21875 31.78125 74.21875 \nz\n\" id=\"DejaVuSans-48\"/>\n       </defs>\n       <use xlink:href=\"#DejaVuSans-48\"/>\n      </g>\n     </g>\n    </g>\n    <g id=\"xtick_2\">\n     <g id=\"line2d_2\">\n      <g>\n       <use style=\"stroke:#000000;stroke-width:0.8;\" x=\"92.642578\" xlink:href=\"#m7c3297edcc\" y=\"226.264819\"/>\n      </g>\n     </g>\n     <g id=\"text_2\">\n      <!-- 100 -->\n      <g transform=\"translate(83.098828 240.863256)scale(0.1 -0.1)\">\n       <defs>\n        <path d=\"M 12.40625 8.296875 \nL 28.515625 8.296875 \nL 28.515625 63.921875 \nL 10.984375 60.40625 \nL 10.984375 69.390625 \nL 28.421875 72.90625 \nL 38.28125 72.90625 \nL 38.28125 8.296875 \nL 54.390625 8.296875 \nL 54.390625 0 \nL 12.40625 0 \nz\n\" id=\"DejaVuSans-49\"/>\n       </defs>\n       <use xlink:href=\"#DejaVuSans-49\"/>\n       <use x=\"63.623047\" xlink:href=\"#DejaVuSans-48\"/>\n       <use x=\"127.246094\" xlink:href=\"#DejaVuSans-48\"/>\n      </g>\n     </g>\n    </g>\n    <g id=\"xtick_3\">\n     <g id=\"line2d_3\">\n      <g>\n       <use style=\"stroke:#000000;stroke-width:0.8;\" x=\"158.033203\" xlink:href=\"#m7c3297edcc\" y=\"226.264819\"/>\n      </g>\n     </g>\n     <g id=\"text_3\">\n      <!-- 200 -->\n      <g transform=\"translate(148.489453 240.863256)scale(0.1 -0.1)\">\n       <defs>\n        <path d=\"M 19.1875 8.296875 \nL 53.609375 8.296875 \nL 53.609375 0 \nL 7.328125 0 \nL 7.328125 8.296875 \nQ 12.9375 14.109375 22.625 23.890625 \nQ 32.328125 33.6875 34.8125 36.53125 \nQ 39.546875 41.84375 41.421875 45.53125 \nQ 43.3125 49.21875 43.3125 52.78125 \nQ 43.3125 58.59375 39.234375 62.25 \nQ 35.15625 65.921875 28.609375 65.921875 \nQ 23.96875 65.921875 18.8125 64.3125 \nQ 13.671875 62.703125 7.8125 59.421875 \nL 7.8125 69.390625 \nQ 13.765625 71.78125 18.9375 73 \nQ 24.125 74.21875 28.421875 74.21875 \nQ 39.75 74.21875 46.484375 68.546875 \nQ 53.21875 62.890625 53.21875 53.421875 \nQ 53.21875 48.921875 51.53125 44.890625 \nQ 49.859375 40.875 45.40625 35.40625 \nQ 44.1875 33.984375 37.640625 27.21875 \nQ 31.109375 20.453125 19.1875 8.296875 \nz\n\" id=\"DejaVuSans-50\"/>\n       </defs>\n       <use xlink:href=\"#DejaVuSans-50\"/>\n       <use x=\"63.623047\" xlink:href=\"#DejaVuSans-48\"/>\n       <use x=\"127.246094\" xlink:href=\"#DejaVuSans-48\"/>\n      </g>\n     </g>\n    </g>\n    <g id=\"xtick_4\">\n     <g id=\"line2d_4\">\n      <g>\n       <use style=\"stroke:#000000;stroke-width:0.8;\" x=\"223.423828\" xlink:href=\"#m7c3297edcc\" y=\"226.264819\"/>\n      </g>\n     </g>\n     <g id=\"text_4\">\n      <!-- 300 -->\n      <g transform=\"translate(213.880078 240.863256)scale(0.1 -0.1)\">\n       <defs>\n        <path d=\"M 40.578125 39.3125 \nQ 47.65625 37.796875 51.625 33 \nQ 55.609375 28.21875 55.609375 21.1875 \nQ 55.609375 10.40625 48.1875 4.484375 \nQ 40.765625 -1.421875 27.09375 -1.421875 \nQ 22.515625 -1.421875 17.65625 -0.515625 \nQ 12.796875 0.390625 7.625 2.203125 \nL 7.625 11.71875 \nQ 11.71875 9.328125 16.59375 8.109375 \nQ 21.484375 6.890625 26.8125 6.890625 \nQ 36.078125 6.890625 40.9375 10.546875 \nQ 45.796875 14.203125 45.796875 21.1875 \nQ 45.796875 27.640625 41.28125 31.265625 \nQ 36.765625 34.90625 28.71875 34.90625 \nL 20.21875 34.90625 \nL 20.21875 43.015625 \nL 29.109375 43.015625 \nQ 36.375 43.015625 40.234375 45.921875 \nQ 44.09375 48.828125 44.09375 54.296875 \nQ 44.09375 59.90625 40.109375 62.90625 \nQ 36.140625 65.921875 28.71875 65.921875 \nQ 24.65625 65.921875 20.015625 65.03125 \nQ 15.375 64.15625 9.8125 62.3125 \nL 9.8125 71.09375 \nQ 15.4375 72.65625 20.34375 73.4375 \nQ 25.25 74.21875 29.59375 74.21875 \nQ 40.828125 74.21875 47.359375 69.109375 \nQ 53.90625 64.015625 53.90625 55.328125 \nQ 53.90625 49.265625 50.4375 45.09375 \nQ 46.96875 40.921875 40.578125 39.3125 \nz\n\" id=\"DejaVuSans-51\"/>\n       </defs>\n       <use xlink:href=\"#DejaVuSans-51\"/>\n       <use x=\"63.623047\" xlink:href=\"#DejaVuSans-48\"/>\n       <use x=\"127.246094\" xlink:href=\"#DejaVuSans-48\"/>\n      </g>\n     </g>\n    </g>\n    <g id=\"xtick_5\">\n     <g id=\"line2d_5\">\n      <g>\n       <use style=\"stroke:#000000;stroke-width:0.8;\" x=\"288.814453\" xlink:href=\"#m7c3297edcc\" y=\"226.264819\"/>\n      </g>\n     </g>\n     <g id=\"text_5\">\n      <!-- 400 -->\n      <g transform=\"translate(279.270703 240.863256)scale(0.1 -0.1)\">\n       <defs>\n        <path d=\"M 37.796875 64.3125 \nL 12.890625 25.390625 \nL 37.796875 25.390625 \nz\nM 35.203125 72.90625 \nL 47.609375 72.90625 \nL 47.609375 25.390625 \nL 58.015625 25.390625 \nL 58.015625 17.1875 \nL 47.609375 17.1875 \nL 47.609375 0 \nL 37.796875 0 \nL 37.796875 17.1875 \nL 4.890625 17.1875 \nL 4.890625 26.703125 \nz\n\" id=\"DejaVuSans-52\"/>\n       </defs>\n       <use xlink:href=\"#DejaVuSans-52\"/>\n       <use x=\"63.623047\" xlink:href=\"#DejaVuSans-48\"/>\n       <use x=\"127.246094\" xlink:href=\"#DejaVuSans-48\"/>\n      </g>\n     </g>\n    </g>\n    <g id=\"xtick_6\">\n     <g id=\"line2d_6\">\n      <g>\n       <use style=\"stroke:#000000;stroke-width:0.8;\" x=\"354.205078\" xlink:href=\"#m7c3297edcc\" y=\"226.264819\"/>\n      </g>\n     </g>\n     <g id=\"text_6\">\n      <!-- 500 -->\n      <g transform=\"translate(344.661328 240.863256)scale(0.1 -0.1)\">\n       <defs>\n        <path d=\"M 10.796875 72.90625 \nL 49.515625 72.90625 \nL 49.515625 64.59375 \nL 19.828125 64.59375 \nL 19.828125 46.734375 \nQ 21.96875 47.46875 24.109375 47.828125 \nQ 26.265625 48.1875 28.421875 48.1875 \nQ 40.625 48.1875 47.75 41.5 \nQ 54.890625 34.8125 54.890625 23.390625 \nQ 54.890625 11.625 47.5625 5.09375 \nQ 40.234375 -1.421875 26.90625 -1.421875 \nQ 22.3125 -1.421875 17.546875 -0.640625 \nQ 12.796875 0.140625 7.71875 1.703125 \nL 7.71875 11.625 \nQ 12.109375 9.234375 16.796875 8.0625 \nQ 21.484375 6.890625 26.703125 6.890625 \nQ 35.15625 6.890625 40.078125 11.328125 \nQ 45.015625 15.765625 45.015625 23.390625 \nQ 45.015625 31 40.078125 35.4375 \nQ 35.15625 39.890625 26.703125 39.890625 \nQ 22.75 39.890625 18.8125 39.015625 \nQ 14.890625 38.140625 10.796875 36.28125 \nz\n\" id=\"DejaVuSans-53\"/>\n       </defs>\n       <use xlink:href=\"#DejaVuSans-53\"/>\n       <use x=\"63.623047\" xlink:href=\"#DejaVuSans-48\"/>\n       <use x=\"127.246094\" xlink:href=\"#DejaVuSans-48\"/>\n      </g>\n     </g>\n    </g>\n   </g>\n   <g id=\"matplotlib.axis_2\">\n    <g id=\"ytick_1\">\n     <g id=\"line2d_7\">\n      <defs>\n       <path d=\"M 0 0 \nL -3.5 0 \n\" id=\"m4f0680ba6b\" style=\"stroke:#000000;stroke-width:0.8;\"/>\n      </defs>\n      <g>\n       <use style=\"stroke:#000000;stroke-width:0.8;\" x=\"26.925\" xlink:href=\"#m4f0680ba6b\" y=\"10.999219\"/>\n      </g>\n     </g>\n     <g id=\"text_7\">\n      <!-- 0 -->\n      <g transform=\"translate(13.5625 14.798437)scale(0.1 -0.1)\">\n       <use xlink:href=\"#DejaVuSans-48\"/>\n      </g>\n     </g>\n    </g>\n    <g id=\"ytick_2\">\n     <g id=\"line2d_8\">\n      <g>\n       <use style=\"stroke:#000000;stroke-width:0.8;\" x=\"26.925\" xlink:href=\"#m4f0680ba6b\" y=\"54.487219\"/>\n      </g>\n     </g>\n     <g id=\"text_8\">\n      <!-- 10 -->\n      <g transform=\"translate(7.2 58.286437)scale(0.1 -0.1)\">\n       <use xlink:href=\"#DejaVuSans-49\"/>\n       <use x=\"63.623047\" xlink:href=\"#DejaVuSans-48\"/>\n      </g>\n     </g>\n    </g>\n    <g id=\"ytick_3\">\n     <g id=\"line2d_9\">\n      <g>\n       <use style=\"stroke:#000000;stroke-width:0.8;\" x=\"26.925\" xlink:href=\"#m4f0680ba6b\" y=\"97.975219\"/>\n      </g>\n     </g>\n     <g id=\"text_9\">\n      <!-- 20 -->\n      <g transform=\"translate(7.2 101.774437)scale(0.1 -0.1)\">\n       <use xlink:href=\"#DejaVuSans-50\"/>\n       <use x=\"63.623047\" xlink:href=\"#DejaVuSans-48\"/>\n      </g>\n     </g>\n    </g>\n    <g id=\"ytick_4\">\n     <g id=\"line2d_10\">\n      <g>\n       <use style=\"stroke:#000000;stroke-width:0.8;\" x=\"26.925\" xlink:href=\"#m4f0680ba6b\" y=\"141.463219\"/>\n      </g>\n     </g>\n     <g id=\"text_10\">\n      <!-- 30 -->\n      <g transform=\"translate(7.2 145.262437)scale(0.1 -0.1)\">\n       <use xlink:href=\"#DejaVuSans-51\"/>\n       <use x=\"63.623047\" xlink:href=\"#DejaVuSans-48\"/>\n      </g>\n     </g>\n    </g>\n    <g id=\"ytick_5\">\n     <g id=\"line2d_11\">\n      <g>\n       <use style=\"stroke:#000000;stroke-width:0.8;\" x=\"26.925\" xlink:href=\"#m4f0680ba6b\" y=\"184.951219\"/>\n      </g>\n     </g>\n     <g id=\"text_11\">\n      <!-- 40 -->\n      <g transform=\"translate(7.2 188.750437)scale(0.1 -0.1)\">\n       <use xlink:href=\"#DejaVuSans-52\"/>\n       <use x=\"63.623047\" xlink:href=\"#DejaVuSans-48\"/>\n      </g>\n     </g>\n    </g>\n   </g>\n   <g id=\"patch_3\">\n    <path d=\"M 26.925 226.264819 \nL 26.925 8.824819 \n\" style=\"fill:none;stroke:#000000;stroke-linecap:square;stroke-linejoin:miter;stroke-width:0.8;\"/>\n   </g>\n   <g id=\"patch_4\">\n    <path d=\"M 361.725 226.264819 \nL 361.725 8.824819 \n\" style=\"fill:none;stroke:#000000;stroke-linecap:square;stroke-linejoin:miter;stroke-width:0.8;\"/>\n   </g>\n   <g id=\"patch_5\">\n    <path d=\"M 26.925 226.264819 \nL 361.725 226.264819 \n\" style=\"fill:none;stroke:#000000;stroke-linecap:square;stroke-linejoin:miter;stroke-width:0.8;\"/>\n   </g>\n   <g id=\"patch_6\">\n    <path d=\"M 26.925 8.824819 \nL 361.725 8.824819 \n\" style=\"fill:none;stroke:#000000;stroke-linecap:square;stroke-linejoin:miter;stroke-width:0.8;\"/>\n   </g>\n  </g>\n </g>\n <defs>\n  <clipPath id=\"p5495379810\">\n   <rect height=\"217.44\" width=\"334.8\" x=\"26.925\" y=\"8.824819\"/>\n  </clipPath>\n </defs>\n</svg>\n",
      "image/png": "[encoded data removed]"
     },
     "metadata": {
      "needs_background": "light"
     }
    }
   ],
   "source": [
    "data = pe.pe.numpy()\n",
    "import matplotlib.pyplot as plt\n",
    "\n",
    "fig, ax= plt.subplots()\n",
    "ax.imshow(data, aspect=\"auto\")"
   ]
  },
  {
   "source": [
    "## Positional Encoding"
   ],
   "cell_type": "markdown",
   "metadata": {}
  },
  {
   "cell_type": "code",
   "execution_count": 3,
   "metadata": {},
   "outputs": [],
   "source": [
    "class PositionalEncoding(nn.Module):\n",
    "    \"\"\"\n",
    "    位置エンコーディング\n",
    "    \n",
    "    args:\n",
    "      - d_model (int) : ベクトルの次元数\n",
    "      - dropout (float)\n",
    "      - device\n",
    "      - max_len (int) : 許容しうる最大の長さの文章\n",
    "    \"\"\"\n",
    "    def __init__(self, d_model, dropout, device=\"cpu\", max_len = 10000):\n",
    "        super().__init__()\n",
    "        self.pe = torch.zeros(max_len, d_model)\n",
    "        pos = torch.arange(0,max_len).unsqueeze(1).type(torch.float32)\n",
    "        tmp = torch.arange(0,d_model,2)\n",
    "        den = 1/torch.pow(torch.ones(int(d_model/2))*10000,2*tmp/d_model)\n",
    "        den = den.unsqueeze(0)\n",
    "        self.pe[:,0::2] = torch.sin(torch.matmul(pos,den))\n",
    "        self.pe[:,1::2] = torch.cos(torch.matmul(pos,den))\n",
    "        self.pe = self.pe.to(device)\n",
    "\n",
    "    def forward(self, x):\n",
    "        return x + self.pe[:x.shape[1],:]"
   ]
  },
  {
   "cell_type": "code",
   "execution_count": 5,
   "metadata": {},
   "outputs": [
    {
     "output_type": "execute_result",
     "data": {
      "text/plain": [
       "torch.Size([3, 10, 512])"
      ]
     },
     "metadata": {},
     "execution_count": 5
    }
   ],
   "source": [
    "PE = PositionalEncoding(512, 0.0)\n",
    "d_model = 512\n",
    "data = torch.tensor(np.random.rand(3,10,d_model).astype(np.float32))\n",
    "PE(data).shape"
   ]
  },
  {
   "cell_type": "code",
   "execution_count": 6,
   "metadata": {},
   "outputs": [
    {
     "output_type": "execute_result",
     "data": {
      "text/plain": [
       "array([[1, 1, 0, 1, 1, 1, 0, 1, 1, 0],\n",
       "       [0, 0, 1, 0, 0, 1, 1, 1, 0, 1],\n",
       "       [0, 0, 1, 1, 1, 0, 0, 1, 0, 0],\n",
       "       [0, 1, 1, 0, 1, 0, 0, 1, 0, 1],\n",
       "       [1, 0, 1, 1, 0, 1, 0, 1, 1, 1],\n",
       "       [0, 1, 0, 0, 1, 1, 0, 0, 0, 0],\n",
       "       [0, 1, 1, 0, 0, 0, 1, 0, 0, 0],\n",
       "       [0, 0, 0, 1, 0, 0, 1, 1, 1, 1],\n",
       "       [0, 0, 0, 1, 0, 1, 0, 0, 0, 0],\n",
       "       [0, 0, 1, 1, 1, 0, 0, 0, 0, 0]])"
      ]
     },
     "metadata": {},
     "execution_count": 6
    }
   ],
   "source": [
    "np.random.randint(0,2, size=(10,10))"
   ]
  },
  {
   "cell_type": "code",
   "execution_count": 14,
   "metadata": {},
   "outputs": [],
   "source": [
    "from torch.autograd import Variable\n",
    "import copy\n",
    "\n",
    "vocab_size = 50\n",
    "\n",
    "def generate_data(batch_size, word_len):\n",
    "    \"\"\"\n",
    "    generate data of virtual sentence\n",
    "    output:\n",
    "        - src (torch.tensor) (batch_size, word_len) : virtual sentence \n",
    "        - tgt (torch.tensor) (batch_size, word_len) : same of src\n",
    "    \"\"\"\n",
    "    data = torch.LongTensor(np.random.randint(1, vocab_size, size=(batch_size, word_len)))\n",
    "    data[:,0] = 0\n",
    "    src = copy.deepcopy(data)\n",
    "    tgt = copy.deepcopy(data)\n",
    "    return src, tgt\n",
    "\n",
    "def subsequent_mask(size):\n",
    "    \"Mask out subsequent positions.\"\n",
    "    attn_shape = (1, size, size)\n",
    "    subsequent_mask = np.triu(np.ones(attn_shape), k=1).astype('uint8')\n",
    "    return torch.from_numpy(subsequent_mask) == 0\n",
    "\n",
    "def make_std_mask(tgt, pad):\n",
    "    \"Create a mask to hide padding and future words.\"\n",
    "    tgt_mask = (tgt != pad).unsqueeze(-2)\n",
    "    tgt_mask = tgt_mask & Variable(\n",
    "        subsequent_mask(tgt.size(-1)).type_as(tgt_mask.data))\n",
    "    return tgt_mask\n",
    "\n",
    "\n",
    "data = generate_data(3,10)[0]"
   ]
  },
  {
   "cell_type": "code",
   "execution_count": 15,
   "metadata": {},
   "outputs": [
    {
     "output_type": "execute_result",
     "data": {
      "text/plain": [
       "tensor([[[False, False, False, False, False, False, False, False, False, False],\n",
       "         [False,  True, False, False, False, False, False, False, False, False],\n",
       "         [False,  True,  True, False, False, False, False, False, False, False],\n",
       "         [False,  True,  True,  True, False, False, False, False, False, False],\n",
       "         [False,  True,  True,  True,  True, False, False, False, False, False],\n",
       "         [False,  True,  True,  True,  True,  True, False, False, False, False],\n",
       "         [False,  True,  True,  True,  True,  True,  True, False, False, False],\n",
       "         [False,  True,  True,  True,  True,  True,  True,  True, False, False],\n",
       "         [False,  True,  True,  True,  True,  True,  True,  True,  True, False],\n",
       "         [False,  True,  True,  True,  True,  True,  True,  True,  True,  True]],\n",
       "\n",
       "        [[False, False, False, False, False, False, False, False, False, False],\n",
       "         [False,  True, False, False, False, False, False, False, False, False],\n",
       "         [False,  True,  True, False, False, False, False, False, False, False],\n",
       "         [False,  True,  True,  True, False, False, False, False, False, False],\n",
       "         [False,  True,  True,  True,  True, False, False, False, False, False],\n",
       "         [False,  True,  True,  True,  True,  True, False, False, False, False],\n",
       "         [False,  True,  True,  True,  True,  True,  True, False, False, False],\n",
       "         [False,  True,  True,  True,  True,  True,  True,  True, False, False],\n",
       "         [False,  True,  True,  True,  True,  True,  True,  True,  True, False],\n",
       "         [False,  True,  True,  True,  True,  True,  True,  True,  True,  True]],\n",
       "\n",
       "        [[False, False, False, False, False, False, False, False, False, False],\n",
       "         [False,  True, False, False, False, False, False, False, False, False],\n",
       "         [False,  True,  True, False, False, False, False, False, False, False],\n",
       "         [False,  True,  True,  True, False, False, False, False, False, False],\n",
       "         [False,  True,  True,  True,  True, False, False, False, False, False],\n",
       "         [False,  True,  True,  True,  True,  True, False, False, False, False],\n",
       "         [False,  True,  True,  True,  True,  True,  True, False, False, False],\n",
       "         [False,  True,  True,  True,  True,  True,  True,  True, False, False],\n",
       "         [False,  True,  True,  True,  True,  True,  True,  True,  True, False],\n",
       "         [False,  True,  True,  True,  True,  True,  True,  True,  True,  True]]])"
      ]
     },
     "metadata": {},
     "execution_count": 15
    }
   ],
   "source": [
    "make_std_mask(data, pad = 0)"
   ]
  },
  {
   "cell_type": "code",
   "execution_count": 18,
   "metadata": {},
   "outputs": [
    {
     "output_type": "execute_result",
     "data": {
      "text/plain": [
       "array([[1., 0., 0., 0., 0., 0., 0., 0., 0., 0.],\n",
       "       [1., 1., 0., 0., 0., 0., 0., 0., 0., 0.],\n",
       "       [1., 1., 1., 0., 0., 0., 0., 0., 0., 0.],\n",
       "       [1., 1., 1., 1., 0., 0., 0., 0., 0., 0.],\n",
       "       [1., 1., 1., 1., 1., 0., 0., 0., 0., 0.],\n",
       "       [1., 1., 1., 1., 1., 1., 0., 0., 0., 0.],\n",
       "       [1., 1., 1., 1., 1., 1., 1., 0., 0., 0.],\n",
       "       [1., 1., 1., 1., 1., 1., 1., 1., 0., 0.],\n",
       "       [1., 1., 1., 1., 1., 1., 1., 1., 1., 0.],\n",
       "       [1., 1., 1., 1., 1., 1., 1., 1., 1., 1.]], dtype=float32)"
      ]
     },
     "metadata": {},
     "execution_count": 18
    }
   ],
   "source": [
    "word_len = 10\n",
    "mask = np.tril(np.ones((word_len,word_len))).astype(np.float32)\n",
    "mask"
   ]
  },
  {
   "cell_type": "code",
   "execution_count": null,
   "metadata": {},
   "outputs": [],
   "source": []
  }
 ]
}